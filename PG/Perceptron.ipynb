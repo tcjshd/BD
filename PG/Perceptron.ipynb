{
 "cells": [
  {
   "cell_type": "code",
   "execution_count": 1,
   "metadata": {},
   "outputs": [],
   "source": [
    "import numpy as np"
   ]
  },
  {
   "cell_type": "code",
   "execution_count": 7,
   "metadata": {},
   "outputs": [],
   "source": [
    "# Bipolar binary funtion\n",
    "def bipolar(net):\n",
    "    if net < 0:\n",
    "        return -1\n",
    "    elif net == 0:\n",
    "        return 0\n",
    "    else:\n",
    "        return 1"
   ]
  },
  {
   "cell_type": "code",
   "execution_count": 4,
   "metadata": {},
   "outputs": [],
   "source": [
    "def process(x, d, w1, w2, b, activate, delta_b, c=1):\n",
    "    net = w1*x[0] + w2*x[1] + b\n",
    "    error = d - activate(net)\n",
    "    del_w1 = c * error * x[0]\n",
    "    del_w2 = c * error * x[1]\n",
    "    del_b = error\n",
    "    delta_b.append(del_b)\n",
    "    w1 += del_w1\n",
    "    w2 += del_w2\n",
    "    b += del_b\n",
    "\n",
    "    return w1, w2, b, delta_b"
   ]
  },
  {
   "cell_type": "code",
   "execution_count": 5,
   "metadata": {},
   "outputs": [
    {
     "name": "stdout",
     "output_type": "stream",
     "text": [
      "Bipolar AND\n",
      "1 [-1, 0, 0, 0]\n",
      "2 [0, 0, 0, 0]\n"
     ]
    }
   ],
   "source": [
    "x = [[-1, -1], \n",
    "     [-1, 1],\n",
    "     [1, -1],\n",
    "     [1, 1]]\n",
    "d = [-1, -1, -1, 1]\n",
    "w1, w2, b = 0, 0, 0\n",
    "epoch = 0\n",
    "delta_b = []\n",
    "print(\"Bipolar AND\")\n",
    "while(delta_b != [0, 0, 0, 0]):\n",
    "    epoch += 1\n",
    "    delta_b = []\n",
    "    for i in range(len(x)):\n",
    "        w1, w2, b, delta_b = process(x[i], d[i], w1, w2, b, bipolar, delta_b)\n",
    "\n",
    "    print(epoch, delta_b)"
   ]
  },
  {
   "cell_type": "code",
   "execution_count": 6,
   "metadata": {},
   "outputs": [
    {
     "name": "stdout",
     "output_type": "stream",
     "text": [
      "Bipolar OR\n",
      "1 [-1, 2, 2, 0]\n",
      "2 [-2, 0, 0, 0]\n",
      "3 [0, 0, 0, 0]\n"
     ]
    }
   ],
   "source": [
    "x = [[-1, -1], \n",
    "     [-1, 1],\n",
    "     [1, -1],\n",
    "     [1, 1]]\n",
    "d = [-1, 1, 1, 1]\n",
    "w1, w2, b = 0, 0, 0\n",
    "epoch = 0\n",
    "delta_b = []\n",
    "print(\"Bipolar OR\")\n",
    "while(delta_b != [0, 0, 0, 0]):\n",
    "    epoch += 1\n",
    "    delta_b = []\n",
    "    for i in range(len(x)):\n",
    "        w1, w2, b, delta_b = process(x[i], d[i], w1, w2, b, bipolar, delta_b)\n",
    "\n",
    "    print(epoch, delta_b)\n"
   ]
  },
  {
   "cell_type": "code",
   "execution_count": 8,
   "metadata": {},
   "outputs": [],
   "source": [
    "# Unipolar binary funtion\n",
    "def unipolar(net):\n",
    "    if net < 0:\n",
    "        return 0\n",
    "    else:\n",
    "        return 1"
   ]
  },
  {
   "cell_type": "code",
   "execution_count": 9,
   "metadata": {},
   "outputs": [
    {
     "name": "stdout",
     "output_type": "stream",
     "text": [
      "Unipolar AND\n",
      "1 0 0 0\n",
      "2 1 1 0\n",
      "3 2 1 -1\n",
      "4 2 1 -2\n",
      "5 2 2 -2\n",
      "6 2 1 -3\n",
      "7 2 1 -3\n"
     ]
    }
   ],
   "source": [
    "x = [[0, 0], \n",
    "     [0, 1],\n",
    "     [1, 0],\n",
    "     [1, 1]]\n",
    "d = [0, 0, 0, 1]\n",
    "w1, w2, b = -1, -1, -1\n",
    "epoch = 0\n",
    "delta_b = []\n",
    "print(\"Unipolar AND\")\n",
    "while(delta_b != [0, 0, 0, 0]):\n",
    "    epoch += 1\n",
    "    delta_b = []\n",
    "    for i in range(len(x)):\n",
    "        w1, w2, b, delta_b = process(x[i], d[i], w1, w2, b, unipolar, delta_b)\n",
    "\n",
    "    print(epoch, w1, w2, b)"
   ]
  },
  {
   "cell_type": "code",
   "execution_count": 10,
   "metadata": {},
   "outputs": [
    {
     "name": "stdout",
     "output_type": "stream",
     "text": [
      "Unipolar OR\n",
      "1 0 0 1\n",
      "2 0 0 0\n",
      "3 0 1 0\n",
      "4 1 1 0\n",
      "5 1 1 -1\n",
      "6 1 1 -1\n"
     ]
    }
   ],
   "source": [
    "x = [[0, 0], \n",
    "     [0, 1],\n",
    "     [1, 0],\n",
    "     [1, 1]]\n",
    "d = [0, 1, 1, 1]\n",
    "w1, w2, b = -1, -1, -1\n",
    "epoch = 0\n",
    "delta_b = []\n",
    "print(\"Unipolar OR\")\n",
    "while(delta_b != [0, 0, 0, 0]):\n",
    "    epoch += 1\n",
    "    delta_b = []\n",
    "    for i in range(len(x)):\n",
    "        w1, w2, b, delta_b = process(x[i], d[i], w1, w2, b, unipolar, delta_b)\n",
    "\n",
    "    print(epoch, w1, w2, b)"
   ]
  },
  {
   "cell_type": "code",
   "execution_count": null,
   "metadata": {},
   "outputs": [],
   "source": []
  }
 ],
 "metadata": {
  "kernelspec": {
   "display_name": "Python 3",
   "language": "python",
   "name": "python3"
  },
  "language_info": {
   "codemirror_mode": {
    "name": "ipython",
    "version": 3
   },
   "file_extension": ".py",
   "mimetype": "text/x-python",
   "name": "python",
   "nbconvert_exporter": "python",
   "pygments_lexer": "ipython3",
   "version": "3.9.6"
  }
 },
 "nbformat": 4,
 "nbformat_minor": 2
}
