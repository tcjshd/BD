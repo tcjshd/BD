{
 "cells": [
  {
   "cell_type": "code",
   "execution_count": 2,
   "id": "9145bdff",
   "metadata": {},
   "outputs": [
    {
     "name": "stdout",
     "output_type": "stream",
     "text": [
      "Epoch 0 | Discriminator loss: 0.91027 | Generator loss: 0.22248\n",
      "Epoch 1000 | Discriminator loss: 1.424 | Generator loss: 0.72238\n",
      "Epoch 2000 | Discriminator loss: 1.3987 | Generator loss: 0.64099\n",
      "Epoch 3000 | Discriminator loss: 1.3871 | Generator loss: 0.69789\n",
      "Epoch 4000 | Discriminator loss: 1.3723 | Generator loss: 0.68471\n",
      "Epoch 5000 | Discriminator loss: 1.3747 | Generator loss: 0.64563\n",
      "Epoch 6000 | Discriminator loss: 1.3838 | Generator loss: 0.71467\n",
      "Epoch 7000 | Discriminator loss: 1.4039 | Generator loss: 0.66163\n",
      "Epoch 8000 | Discriminator loss: 1.3985 | Generator loss: 0.67473\n",
      "Epoch 9000 | Discriminator loss: 1.3814 | Generator loss: 0.70465\n",
      "Sample Gneneration: \n",
      "[1.49614089]\n",
      "[0.24297311]\n",
      "[1.4333023]\n",
      "[1.66498199]\n",
      "[1.09630721]\n"
     ]
    }
   ],
   "source": [
    "import numpy as np\n",
    "\n",
    "def sigmoid(x):\n",
    "   return 1 / (1 + np.exp(-x))\n",
    "\n",
    "lr = 0.01\n",
    "latent_dim = 1\n",
    "epochs = 10000\n",
    "\n",
    "w_g = np.random.randn()\n",
    "b_g = 2.0\n",
    "\n",
    "w_d = np.random.randn()\n",
    "b_d = 0.0\n",
    "\n",
    "for epoch in range(epochs):\n",
    "   x_real = np.random.normal(2, 0.5, (1, ))\n",
    "   z = np.random.randn(latent_dim)\n",
    "   x_fake = w_g * z + b_g\n",
    "\n",
    "   d_real = sigmoid(w_d * x_real + b_d)\n",
    "   d_fake = sigmoid(w_d * x_fake + b_d)\n",
    "\n",
    "   d_loss = -np.log(d_real) - np.log(1 - d_fake)\n",
    "\n",
    "   grad_w_d = (d_real - 1) * x_real + d_fake * x_fake\n",
    "   grad_b_d = (d_real - 1) + d_fake\n",
    "\n",
    "   w_d -= lr * grad_w_d\n",
    "   b_d -= lr * grad_b_d\n",
    "\n",
    "   z = np.random.randn(latent_dim)\n",
    "   x_fake = w_g * z + b_g\n",
    "   d_fake = sigmoid(w_d * x_fake + b_d)\n",
    "\n",
    "   g_loss = -np.log(d_fake)\n",
    "\n",
    "   grad_w_g = d_fake * (d_fake - 1) * w_d * z\n",
    "   grad_b_g = d_fake * (d_fake - 1) * w_d\n",
    "\n",
    "   w_g -= lr * grad_w_g\n",
    "   b_g -= lr * grad_b_g\n",
    "\n",
    "   if epoch % 1000 == 0:\n",
    "      print(f\"Epoch {epoch} | Discriminator loss: {d_loss[0]:.5} | Generator loss: {g_loss[0]:.5}\")\n",
    "\n",
    "\n",
    "print(\"Sample Gneneration: \")\n",
    "for _ in range(5):\n",
    "   z = np.random.randn(latent_dim)\n",
    "   sample = w_g * z + b_g\n",
    "   print(sample)"
   ]
  }
 ],
 "metadata": {
  "kernelspec": {
   "display_name": "Python 3",
   "language": "python",
   "name": "python3"
  },
  "language_info": {
   "codemirror_mode": {
    "name": "ipython",
    "version": 3
   },
   "file_extension": ".py",
   "mimetype": "text/x-python",
   "name": "python",
   "nbconvert_exporter": "python",
   "pygments_lexer": "ipython3",
   "version": "3.11.4"
  }
 },
 "nbformat": 4,
 "nbformat_minor": 5
}
