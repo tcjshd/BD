{
 "cells": [
  {
   "cell_type": "markdown",
   "metadata": {},
   "source": [
    "## Taking the image matrix"
   ]
  },
  {
   "cell_type": "code",
   "execution_count": 7,
   "metadata": {},
   "outputs": [],
   "source": [
    "import numpy as np\n",
    "\n",
    "image = np.array([\n",
    "    [1, 2, 3, 0, 1],\n",
    "    [0, 1, 2, 3, 1],\n",
    "    [1, 0, 2, 2, 0],\n",
    "    [2, 1, 0, 1, 2],\n",
    "    [0, 1, 3, 1, 0]\n",
    "])\n",
    "\n",
    "kernel = np.array([\n",
    "    [1, 0, -1],\n",
    "    [1, 0, -1],\n",
    "    [1, 0, -1]\n",
    "])"
   ]
  },
  {
   "cell_type": "code",
   "execution_count": 14,
   "metadata": {},
   "outputs": [],
   "source": [
    "def convolve2d(img, kernel):\n",
    "    kernel_size = kernel.shape[0]\n",
    "    output_dim = img.shape[0] - kernel_size + 1\n",
    "    result = np.zeros((output_dim, output_dim))\n",
    "    for i in range(output_dim):\n",
    "        for j in range(output_dim):\n",
    "            region = img[i:i+kernel_size, j:j+kernel_size]\n",
    "            result[i, j] = np.sum(region * kernel)\n",
    "    return result\n",
    "\n",
    "def max_pooling(feature_map, size=2, stride=1):\n",
    "    h, w = feature_map.shape\n",
    "    pooled_h = (h - size) // stride + 1\n",
    "    pooled_w = (w - size) // stride + 1\n",
    "    pooled = np.zeros((pooled_h, pooled_w))\n",
    "\n",
    "    for i in range(0, h - size + 1, stride):\n",
    "        for j in range(0, w - size + 1, stride):\n",
    "            region = feature_map[i:i+size, j:j+size]\n",
    "            pooled[i//stride, j//stride] = np.max(region)\n",
    "    return pooled\n",
    "\n",
    "\n",
    "def fully_connected(flattened_input, weights, bias):\n",
    "    return np.dot(flattened_input, weights) + bias"
   ]
  },
  {
   "cell_type": "code",
   "execution_count": 22,
   "metadata": {},
   "outputs": [
    {
     "name": "stdout",
     "output_type": "stream",
     "text": [
      "After Convolution:\n",
      " [[-5. -2.  5.]\n",
      " [-1. -4.  1.]\n",
      " [-2. -2.  3.]]\n",
      "After Pooling:\n",
      " [[-1.  5.]\n",
      " [-1.  3.]]\n",
      "After Flattening:\n",
      " [-1.  5. -1.  3.]\n",
      "Final Output (FC Layer):\n",
      " [  2.8570811  -12.30944001]\n"
     ]
    }
   ],
   "source": [
    "conv_output = convolve2d(image, kernel)\n",
    "print(\"After Convolution:\\n\", conv_output)\n",
    "\n",
    "pooled_output = max_pooling(conv_output)\n",
    "print(\"After Pooling:\\n\", pooled_output)\n",
    "\n",
    "flattened = pooled_output.flatten()\n",
    "print(\"After Flattening:\\n\", flattened)\n",
    "\n",
    "weights = np.random.randn(flattened.size, 2)\n",
    "bias = np.random.randn(2)\n",
    "\n",
    "fc_output = fully_connected(flattened, weights, bias)\n",
    "print(\"Final Output (FC Layer):\\n\", fc_output)\n"
   ]
  },
  {
   "cell_type": "markdown",
   "metadata": {},
   "source": [
    "## On mnist dataset"
   ]
  },
  {
   "cell_type": "code",
   "execution_count": null,
   "metadata": {},
   "outputs": [],
   "source": [
    "%pip install matplotlib"
   ]
  },
  {
   "cell_type": "code",
   "execution_count": 29,
   "metadata": {},
   "outputs": [
    {
     "name": "stdout",
     "output_type": "stream",
     "text": [
      "True Label: 5\n"
     ]
    },
    {
     "data": {
      "image/png": "[encoded data removed]",
      "text/plain": [
       "<Figure size 640x480 with 1 Axes>"
      ]
     },
     "metadata": {},
     "output_type": "display_data"
    }
   ],
   "source": [
    "import numpy as np\n",
    "from tensorflow.keras.datasets import mnist\n",
    "import matplotlib.pyplot as plt\n",
    "\n",
    "(X_train, y_train), (_, _) = mnist.load_data()\n",
    "\n",
    "image = X_train[0] / 255.0\n",
    "label = y_train[0]\n",
    "print(f\"True Label: {label}\")\n",
    "\n",
    "plt.imshow(image, cmap='gray')\n",
    "plt.title(f\"Digit: {label}\")\n",
    "plt.show()\n",
    "\n",
    "kernel = np.array([\n",
    "    [1, 0, -1],\n",
    "    [1, 0, -1],\n",
    "    [1, 0, -1]\n",
    "])"
   ]
  },
  {
   "cell_type": "code",
   "execution_count": 33,
   "metadata": {},
   "outputs": [],
   "source": [
    "def convolve2d(img, kernel):\n",
    "    kernel_size = kernel.shape[0]\n",
    "    output_dim = img.shape[0] - kernel_size + 1\n",
    "    result = np.zeros((output_dim, output_dim))\n",
    "    for i in range(output_dim):\n",
    "        for j in range(output_dim):\n",
    "            region = img[i:i+kernel_size, j:j+kernel_size]\n",
    "            result[i, j] = np.sum(region * kernel)\n",
    "    return result\n",
    "\n",
    "def max_pooling(feature_map, size=2, stride=2):\n",
    "    h, w = feature_map.shape\n",
    "    pooled_h = (h - size) // stride + 1\n",
    "    pooled_w = (w - size) // stride + 1\n",
    "    pooled = np.zeros((pooled_h, pooled_w))\n",
    "\n",
    "    for i in range(0, h - size + 1, stride):\n",
    "        for j in range(0, w - size + 1, stride):\n",
    "            region = feature_map[i:i+size, j:j+size]\n",
    "            pooled[i//stride, j//stride] = np.max(region)\n",
    "    return pooled\n",
    "\n",
    "\n",
    "def fully_connected(flattened_input, weights, bias):\n",
    "    return np.dot(flattened_input, weights) + bias"
   ]
  },
  {
   "cell_type": "code",
   "execution_count": null,
   "metadata": {},
   "outputs": [
    {
     "name": "stdout",
     "output_type": "stream",
     "text": [
      "5\n",
      "Predicted Digit: 5\n"
     ]
    }
   ],
   "source": [
    "conv_output = convolve2d(image, kernel)\n",
    "pooled_output = max_pooling(conv_output)\n",
    "flattened = pooled_output.flatten()\n",
    "\n",
    "weights = np.random.randn(flattened.size, 10)\n",
    "bias = np.random.randn(10)\n",
    "\n",
    "fc_output = fully_connected(flattened, weights, bias)\n",
    "predicted = np.argmax(fc_output)\n",
    "# print(predicted)\n",
    "print(\"Predicted Digit:\", predicted) "
   ]
  },
  {
   "cell_type": "markdown",
   "metadata": {},
   "source": [
    "## Using Library on Image matrix"
   ]
  },
  {
   "cell_type": "code",
   "execution_count": 1,
   "metadata": {},
   "outputs": [
    {
     "name": "stderr",
     "output_type": "stream",
     "text": [
      "c:\\Users\\rohit\\AppData\\Local\\Programs\\Python\\Python311\\Lib\\site-packages\\keras\\src\\layers\\convolutional\\base_conv.py:107: UserWarning: Do not pass an `input_shape`/`input_dim` argument to a layer. When using Sequential models, prefer using an `Input(shape)` object as the first layer in the model instead.\n",
      "  super().__init__(activity_regularizer=activity_regularizer, **kwargs)\n"
     ]
    },
    {
     "name": "stdout",
     "output_type": "stream",
     "text": [
      "\u001b[1m1/1\u001b[0m \u001b[32m━━━━━━━━━━━━━━━━━━━━\u001b[0m\u001b[37m\u001b[0m \u001b[1m0s\u001b[0m 186ms/step\n",
      "The output value is [[0.6971818]]\n"
     ]
    }
   ],
   "source": [
    "import numpy as np\n",
    "from keras.models import Sequential                          \n",
    "from keras.layers import Conv2D, MaxPooling2D, Flatten, Dense\n",
    "\n",
    "image = np.array([\n",
    "    [1, 2, 3, 0, 1],\n",
    "    [0, 1, 2, 3, 1],\n",
    "    [1, 0, 2, 2, 0],\n",
    "    [2, 1, 0, 1, 2],\n",
    "    [0, 1, 3, 1, 0]\n",
    "])\n",
    "\n",
    "kernel = np.array([\n",
    "    [1, 0, -1],\n",
    "    [1, 0, -1],\n",
    "    [1, 0, -1]\n",
    "])\n",
    "\n",
    "model = Sequential([\n",
    "   Conv2D(filters=1, kernel_size=(3, 3), padding='valid', activation='linear', input_shape=(5, 5, 1), use_bias=False),\n",
    "   MaxPooling2D(pool_size=(2, 2)),\n",
    "   Flatten(),\n",
    "   Dense(units=1, activation='sigmoid')\n",
    "])\n",
    "model.layers[0].set_weights([kernel.reshape(3,3,1,1)])\n",
    "model.compile(optimizer='adam', loss='mean_squared_error')\n",
    "\n",
    "output = model.predict(image.reshape(1,5,5,1))\n",
    "print(f\"The output value is {output}\")"
   ]
  },
  {
   "cell_type": "markdown",
   "metadata": {},
   "source": [
    "## Using Library on Mnist dataset"
   ]
  },
  {
   "cell_type": "code",
   "execution_count": 5,
   "metadata": {},
   "outputs": [
    {
     "name": "stdout",
     "output_type": "stream",
     "text": [
      "True Label: 5\n"
     ]
    },
    {
     "data": {
      "image/png": "[encoded data removed]",
      "text/plain": [
       "<Figure size 640x480 with 1 Axes>"
      ]
     },
     "metadata": {},
     "output_type": "display_data"
    },
    {
     "name": "stdout",
     "output_type": "stream",
     "text": [
      "\u001b[1m1/1\u001b[0m \u001b[32m━━━━━━━━━━━━━━━━━━━━\u001b[0m\u001b[37m\u001b[0m \u001b[1m0s\u001b[0m 106ms/step\n",
      "The output value is [[0.5]]\n"
     ]
    }
   ],
   "source": [
    "import numpy as np\n",
    "from keras.models import Sequential                           \n",
    "from keras.layers import Conv2D, MaxPooling2D, Flatten, Dense\n",
    "from tensorflow.keras.datasets import mnist\n",
    "import matplotlib.pyplot as plt\n",
    "\n",
    "(X_train, y_train), (_, _) = mnist.load_data()\n",
    "\n",
    "image = X_train[0] / 255.0\n",
    "label = y_train[0]\n",
    "print(f\"True Label: {label}\")\n",
    "\n",
    "plt.imshow(image, cmap='gray')\n",
    "plt.title(f\"Digit: {label}\")\n",
    "plt.show()\n",
    "\n",
    "patch = image[:5, :5].reshape(5, 5, 1)\n",
    "\n",
    "kernel = np.array([\n",
    "    [1, 0, -1],\n",
    "    [1, 0, -1],\n",
    "    [1, 0, -1]\n",
    "])\n",
    "\n",
    "model = Sequential([\n",
    "    Conv2D(filters=1, kernel_size=(3, 3), padding='valid', activation='linear',\n",
    "           input_shape=(5, 5, 1), use_bias=False),\n",
    "    MaxPooling2D(pool_size=(2, 2)),\n",
    "    Flatten(),\n",
    "    Dense(units=1, activation='sigmoid')\n",
    "])\n",
    "\n",
    "model.layers[0].set_weights([kernel.reshape(3, 3, 1, 1)])\n",
    "model.compile(optimizer='adam', loss='mean_squared_error')\n",
    "\n",
    "output = model.predict(patch.reshape(1, 5, 5, 1))\n",
    "print(f\"The output value is {output}\")\n"
   ]
  }
 ],
 "metadata": {
  "kernelspec": {
   "display_name": "Python 3",
   "language": "python",
   "name": "python3"
  },
  "language_info": {
   "codemirror_mode": {
    "name": "ipython",
    "version": 3
   },
   "file_extension": ".py",
   "mimetype": "text/x-python",
   "name": "python",
   "nbconvert_exporter": "python",
   "pygments_lexer": "ipython3",
   "version": "3.11.4"
  }
 },
 "nbformat": 4,
 "nbformat_minor": 2
}
