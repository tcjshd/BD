{
 "cells": [
  {
   "cell_type": "markdown",
   "metadata": {},
   "source": [
    "## SOM"
   ]
  },
  {
   "cell_type": "code",
   "execution_count": null,
   "metadata": {},
   "outputs": [
    {
     "name": "stdout",
     "output_type": "stream",
     "text": [
      "Initial Weights:\n",
      "[[0.2 0.6 0.5 0.9]\n",
      " [0.8 0.4 0.7 0.3]]\n",
      "\n",
      "Input X1: [1 0 1 0]\n",
      "Distances: [1.43527001 0.6164414 ]\n",
      "BMU: y2\n",
      "Updated weights for y2: [0.92 0.16 0.88 0.12]\n",
      "\n",
      "Input X2: [1 0 0 0]\n",
      "Distances: [1.43527001 0.90598013]\n",
      "BMU: y2\n",
      "Updated weights for y2: [0.968 0.064 0.352 0.048]\n",
      "\n",
      "Input X3: [0 0 0 1]\n",
      "Distances: [0.81240384 1.40403989]\n",
      "BMU: y1\n",
      "Updated weights for y1: [0.08 0.24 0.2  0.96]\n",
      "\n",
      "Input X4: [0 1 0 1]\n",
      "Distances: [0.7909488  1.68621707]\n",
      "BMU: y1\n",
      "Updated weights for y1: [0.032 0.696 0.08  0.984]\n",
      "\n",
      "Weights after 1 epoch:\n",
      "[[0.032 0.696 0.08  0.984]\n",
      " [0.968 0.064 0.352 0.048]]\n",
      "New learning rate: 0.3\n"
     ]
    }
   ],
   "source": [
    "# A2 batch wala\n",
    "\n",
    "import numpy as np\n",
    "\n",
    "inputs = np.array([\n",
    "    [1, 0, 1, 0],  \n",
    "    [1, 0, 0, 0],  \n",
    "    [0, 0, 0, 1],  \n",
    "    [0, 1, 0, 1]   \n",
    "])\n",
    "\n",
    "weights = np.array([\n",
    "    [0.2, 0.6, 0.5, 0.9], \n",
    "    [0.8, 0.4, 0.7, 0.3]   \n",
    "])\n",
    "\n",
    "learning_rate = 0.6\n",
    "\n",
    "def euclidean_distance(x, w):\n",
    "    return np.linalg.norm(x - w)\n",
    "\n",
    "print(\"Initial Weights:\")\n",
    "print(weights)\n",
    "\n",
    "for i, x in enumerate(inputs):\n",
    "    print(f\"\\nInput X{i+1}: {x}\")\n",
    "\n",
    "    distances = np.array([euclidean_distance(x, w) for w in weights])\n",
    "    print(f\"Distances: {distances}\")\n",
    "\n",
    "    bmu_index = np.argmin(distances)\n",
    "    print(f\"BMU: y{bmu_index+1}\")\n",
    "\n",
    "    weights[bmu_index] += learning_rate * (x - weights[bmu_index])\n",
    "    print(f\"Updated weights for y{bmu_index+1}: {weights[bmu_index]}\")\n",
    "\n",
    "learning_rate *= 0.5\n",
    "print(\"\\nWeights after 1 epoch:\")\n",
    "print(weights)\n",
    "print(f\"New learning rate: {learning_rate}\")\n"
   ]
  },
  {
   "cell_type": "code",
   "execution_count": 10,
   "metadata": {},
   "outputs": [
    {
     "name": "stdout",
     "output_type": "stream",
     "text": [
      "Initial Weights:\n",
      "[[0.7 0.5]\n",
      " [0.3 0.2]\n",
      " [0.1 0.4]\n",
      " [0.6 0.9]\n",
      " [0.1 0.5]]\n",
      "\n",
      "Input X1: [0.4  0.07]\n",
      "Distances: [0.52430907 0.16401219 0.44598206 0.85375641 0.52430907]\n",
      "BMU: y2\n",
      "Updated weights for y2: [0.33  0.161]\n",
      "\n",
      "Weights after 1 epoch:\n",
      "[[0.7   0.5  ]\n",
      " [0.33  0.161]\n",
      " [0.1   0.4  ]\n",
      " [0.6   0.9  ]\n",
      " [0.1   0.5  ]]\n",
      "New learning rate: 0.15\n"
     ]
    }
   ],
   "source": [
    "# A1 batch wala\n",
    "\n",
    "import numpy as np\n",
    "\n",
    "inputs = np.array([\n",
    "    [0.4,0.07]  \n",
    "])\n",
    "\n",
    "weights = np.array([\n",
    "    [0.7,0.5], \n",
    "    [0.3,0.2], \n",
    "    [0.1,0.4], \n",
    "    [0.6,0.9], \n",
    "    [0.1,0.5]\n",
    "])\n",
    "\n",
    "learning_rate = 0.3\n",
    "\n",
    "def euclidean_distance(x, w):\n",
    "    return np.linalg.norm(x - w)\n",
    "\n",
    "print(\"Initial Weights:\")\n",
    "print(weights)\n",
    "\n",
    "for i, x in enumerate(inputs):\n",
    "    print(f\"\\nInput X{i+1}: {x}\")\n",
    "\n",
    "    distances = np.array([euclidean_distance(x, w) for w in weights])\n",
    "    print(f\"Distances: {distances}\")\n",
    "\n",
    "    bmu_index = np.argmin(distances)\n",
    "    print(f\"BMU: y{bmu_index+1}\")\n",
    "\n",
    "    weights[bmu_index] += learning_rate * (x - weights[bmu_index])\n",
    "    print(f\"Updated weights for y{bmu_index+1}: {weights[bmu_index]}\")\n",
    "\n",
    "learning_rate *= 0.5\n",
    "print(\"\\nWeights after 1 epoch:\")\n",
    "print(weights)\n",
    "print(f\"New learning rate: {learning_rate}\")\n"
   ]
  }
 ],
 "metadata": {
  "kernelspec": {
   "display_name": "Python 3",
   "language": "python",
   "name": "python3"
  },
  "language_info": {
   "codemirror_mode": {
    "name": "ipython",
    "version": 3
   },
   "file_extension": ".py",
   "mimetype": "text/x-python",
   "name": "python",
   "nbconvert_exporter": "python",
   "pygments_lexer": "ipython3",
   "version": "3.11.4"
  }
 },
 "nbformat": 4,
 "nbformat_minor": 2
}
