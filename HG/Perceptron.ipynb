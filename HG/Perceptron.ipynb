{
 "cells": [
  {
   "cell_type": "code",
   "execution_count": null,
   "metadata": {},
   "outputs": [],
   "source": [
    "def bipolar_act(net):\n",
    "    if net > 0:\n",
    "        return 1\n",
    "    elif net < 0:\n",
    "        return -1\n",
    "    else:\n",
    "        return net\n",
    "\n",
    "def unipolar_act(net):\n",
    "    if net >= 0:\n",
    "        return 1\n",
    "    else:\n",
    "        return 0\n",
    "\n",
    "def weights(x, del_b):\n",
    "    return (x * del_b)\n",
    "\n",
    "def net(x1, x2, w1, w2, b):\n",
    "    return (x1 * w1) + (x2 * w2) + b"
   ]
  },
  {
   "cell_type": "code",
   "execution_count": null,
   "metadata": {},
   "outputs": [],
   "source": [
    "def perceptron(x1, x2, d, w1, w2, b, activation):\n",
    "    sum = 0\n",
    "    switch = True\n",
    "    epoch = 1\n",
    "    old_w1 = w1\n",
    "    old_w2 = w2\n",
    "    old_b = b\n",
    "    while switch:\n",
    "        print(f\"Epoch {epoch}\")\n",
    "        print(\"\\tx1\\tx2\\td\\tnet\\to\\tdel_w1\\tdel_w2\\tdel_b\\tw1\\tw2\\tb\")\n",
    "        for i in range(len(d)):\n",
    "            net_val = net(x1[i], x2[i], old_w1, old_w2, old_b)\n",
    "            output = activation(net_val)\n",
    "            del_b = d[i] - output\n",
    "            # del_b = output - d[i]\n",
    "            del_w1 = weights(x1[i], del_b)\n",
    "            del_w2 = weights(x2[i], del_b)\n",
    "            old_w1 = old_w1 + del_w1\n",
    "            old_w2 = old_w2 + del_w2\n",
    "            old_b = old_b + del_b\n",
    "            sum += abs(del_b)\n",
    "            print(f\"\\t{x1[i]:2}\\t{x2[i]:2}\\t{d[i]:2}\\t{net_val:2}\\t{output:2}\\t{del_w1:2}\\t{del_w2:2}\\t{del_b:2}\\t{old_w1:2}\\t{old_w2:2}\\t{old_b:2}\")\n",
    "        if sum == 0:\n",
    "            print(f\"Ecoch {epoch} has reached termination conditions\")\n",
    "            switch = False\n",
    "            return None\n",
    "        epoch += 1\n",
    "        sum = 0\n",
    "\n"
   ]
  },
  {
   "cell_type": "code",
   "execution_count": 19,
   "metadata": {},
   "outputs": [
    {
     "name": "stdout",
     "output_type": "stream",
     "text": [
      "\n",
      "AND gate with bipolar activation\n",
      "Epoch 1\n",
      "\tx1\tx2\td\tnet\to\tdel_w1\tdel_w2\tdel_b\tw1\tw2\tb\n",
      "\t-1\t-1\t-1\t 0\t 0\t 1\t 1\t-1\t 1\t 1\t-1\n",
      "\t 1\t-1\t-1\t-1\t-1\t 0\t 0\t 0\t 1\t 1\t-1\n",
      "\t-1\t 1\t-1\t-1\t-1\t 0\t 0\t 0\t 1\t 1\t-1\n",
      "\t 1\t 1\t1\t 1\t 1\t 0\t 0\t 0\t 1\t 1\t-1\n",
      "Epoch 2\n",
      "\tx1\tx2\td\tnet\to\tdel_w1\tdel_w2\tdel_b\tw1\tw2\tb\n",
      "\t-1\t-1\t-1\t-3\t-1\t 0\t 0\t 0\t 1\t 1\t-1\n",
      "\t 1\t-1\t-1\t-1\t-1\t 0\t 0\t 0\t 1\t 1\t-1\n",
      "\t-1\t 1\t-1\t-1\t-1\t 0\t 0\t 0\t 1\t 1\t-1\n",
      "\t 1\t 1\t1\t 1\t 1\t 0\t 0\t 0\t 1\t 1\t-1\n",
      "Ecoch 2 has reached termination conditions\n"
     ]
    }
   ],
   "source": [
    "print(\"\\nAND gate with bipolar activation\")\n",
    "perceptron([-1, 1, -1, 1], [-1, -1, 1, 1], [-1, -1, -1, 1], 0, 0, 0, bipolar_act)\n",
    "\n"
   ]
  },
  {
   "cell_type": "code",
   "execution_count": 15,
   "metadata": {},
   "outputs": [
    {
     "name": "stdout",
     "output_type": "stream",
     "text": [
      "\n",
      "OR gate with bipolar activation\n",
      "Epoch 1\n",
      "\tx1\tx2\td\tnet\to\tdel_w1\tdel_w2\tdel_b\tw1\tw2\tb\n",
      "\t-1\t-1\t-1\t 0\t 0\t 1\t 1\t-1\t 1\t 1\t-1\n",
      "\t 1\t-1\t 1\t-1\t-1\t 2\t-2\t 2\t 3\t-1\t 1\n",
      "\t-1\t 1\t 1\t-3\t-1\t-2\t 2\t 2\t 1\t 1\t 3\n",
      "\t 1\t 1\t 1\t 5\t 1\t 0\t 0\t 0\t 1\t 1\t 3\n",
      "Epoch 2\n",
      "\tx1\tx2\td\tnet\to\tdel_w1\tdel_w2\tdel_b\tw1\tw2\tb\n",
      "\t-1\t-1\t-1\t 1\t 1\t 2\t 2\t-2\t 3\t 3\t 1\n",
      "\t 1\t-1\t 1\t 1\t 1\t 0\t 0\t 0\t 3\t 3\t 1\n",
      "\t-1\t 1\t 1\t 1\t 1\t 0\t 0\t 0\t 3\t 3\t 1\n",
      "\t 1\t 1\t 1\t 7\t 1\t 0\t 0\t 0\t 3\t 3\t 1\n",
      "Epoch 3\n",
      "\tx1\tx2\td\tnet\to\tdel_w1\tdel_w2\tdel_b\tw1\tw2\tb\n",
      "\t-1\t-1\t-1\t-5\t-1\t 0\t 0\t 0\t 3\t 3\t 1\n",
      "\t 1\t-1\t 1\t 1\t 1\t 0\t 0\t 0\t 3\t 3\t 1\n",
      "\t-1\t 1\t 1\t 1\t 1\t 0\t 0\t 0\t 3\t 3\t 1\n",
      "\t 1\t 1\t 1\t 7\t 1\t 0\t 0\t 0\t 3\t 3\t 1\n",
      "Ecoch 3 has reached termination conditions\n"
     ]
    }
   ],
   "source": [
    "print(\"\\nOR gate with bipolar activation\")\n",
    "perceptron([-1, 1, -1, 1], [-1, -1, 1, 1], [-1, 1, 1, 1], 0, 0, 0, bipolar_act)"
   ]
  },
  {
   "cell_type": "code",
   "execution_count": null,
   "metadata": {},
   "outputs": [
    {
     "name": "stdout",
     "output_type": "stream",
     "text": [
      "AND gate with unipolar activation\n",
      "\n",
      "Epoch 1\n",
      "\tx1\tx2\td\tnet\to\tdel_w1\tdel_w2\tdel_b\tw1\tw2\tb\n",
      "\t 0\t 0\t 0\t-2\t 0\t 0\t 0\t 0\t 1\t 0\t-2\n",
      "\t 1\t 0\t 0\t-1\t 0\t 0\t 0\t 0\t 1\t 0\t-2\n",
      "\t 0\t 1\t 0\t-2\t 0\t 0\t 0\t 0\t 1\t 0\t-2\n",
      "\t 1\t 1\t 1\t-1\t 0\t 1\t 1\t 1\t 2\t 1\t-1\n",
      "Epoch 2\n",
      "\tx1\tx2\td\tnet\to\tdel_w1\tdel_w2\tdel_b\tw1\tw2\tb\n",
      "\t 0\t 0\t 0\t-1\t 0\t 0\t 0\t 0\t 2\t 1\t-1\n",
      "\t 1\t 0\t 0\t 1\t 1\t-1\t 0\t-1\t 1\t 1\t-2\n",
      "\t 0\t 1\t 0\t-1\t 0\t 0\t 0\t 0\t 1\t 1\t-2\n",
      "\t 1\t 1\t 1\t 0\t 1\t 0\t 0\t 0\t 1\t 1\t-2\n",
      "Epoch 3\n",
      "\tx1\tx2\td\tnet\to\tdel_w1\tdel_w2\tdel_b\tw1\tw2\tb\n",
      "\t 0\t 0\t 0\t-2\t 0\t 0\t 0\t 0\t 1\t 1\t-2\n",
      "\t 1\t 0\t 0\t-1\t 0\t 0\t 0\t 0\t 1\t 1\t-2\n",
      "\t 0\t 1\t 0\t-1\t 0\t 0\t 0\t 0\t 1\t 1\t-2\n",
      "\t 1\t 1\t 1\t 0\t 1\t 0\t 0\t 0\t 1\t 1\t-2\n",
      "Ecoch 3 has reached termination conditions\n",
      "OR gate with unipolar activation\n",
      "\n",
      "Epoch 1\n",
      "\tx1\tx2\td\tnet\to\tdel_w1\tdel_w2\tdel_b\tw1\tw2\tb\n",
      "\t 0\t 0\t 0\t 0\t 1\t 0\t 0\t-1\t 1\t 1\t-1\n",
      "\t 1\t 0\t 1\t 0\t 1\t 0\t 0\t 0\t 1\t 1\t-1\n",
      "\t 0\t 1\t 1\t 0\t 1\t 0\t 0\t 0\t 1\t 1\t-1\n",
      "\t 1\t 1\t 1\t 1\t 1\t 0\t 0\t 0\t 1\t 1\t-1\n",
      "Epoch 2\n",
      "\tx1\tx2\td\tnet\to\tdel_w1\tdel_w2\tdel_b\tw1\tw2\tb\n",
      "\t 0\t 0\t 0\t-1\t 0\t 0\t 0\t 0\t 1\t 1\t-1\n",
      "\t 1\t 0\t 1\t 0\t 1\t 0\t 0\t 0\t 1\t 1\t-1\n",
      "\t 0\t 1\t 1\t 0\t 1\t 0\t 0\t 0\t 1\t 1\t-1\n",
      "\t 1\t 1\t 1\t 1\t 1\t 0\t 0\t 0\t 1\t 1\t-1\n",
      "Ecoch 2 has reached termination conditions\n"
     ]
    }
   ],
   "source": [
    "print(\"AND gate with unipolar activation\\n\")\n",
    "perceptron([0, 1, 0, 1], [0, 0, 1, 1], [0, 0, 0, 1], 1,0,-2, unipolar_act)\n"
   ]
  },
  {
   "cell_type": "code",
   "execution_count": 16,
   "metadata": {},
   "outputs": [
    {
     "name": "stdout",
     "output_type": "stream",
     "text": [
      "OR gate with unipolar activation\n",
      "\n",
      "Epoch 1\n",
      "\tx1\tx2\td\tnet\to\tdel_w1\tdel_w2\tdel_b\tw1\tw2\tb\n",
      "\t 0\t 0\t 0\t-2\t 0\t 0\t 0\t 0\t 1\t 0\t-2\n",
      "\t 1\t 0\t 1\t-1\t 0\t 1\t 0\t 1\t 2\t 0\t-1\n",
      "\t 0\t 1\t 1\t-1\t 0\t 0\t 1\t 1\t 2\t 1\t 0\n",
      "\t 1\t 1\t 1\t 3\t 1\t 0\t 0\t 0\t 2\t 1\t 0\n",
      "Epoch 2\n",
      "\tx1\tx2\td\tnet\to\tdel_w1\tdel_w2\tdel_b\tw1\tw2\tb\n",
      "\t 0\t 0\t 0\t 0\t 1\t 0\t 0\t-1\t 2\t 1\t-1\n",
      "\t 1\t 0\t 1\t 1\t 1\t 0\t 0\t 0\t 2\t 1\t-1\n",
      "\t 0\t 1\t 1\t 0\t 1\t 0\t 0\t 0\t 2\t 1\t-1\n",
      "\t 1\t 1\t 1\t 2\t 1\t 0\t 0\t 0\t 2\t 1\t-1\n",
      "Epoch 3\n",
      "\tx1\tx2\td\tnet\to\tdel_w1\tdel_w2\tdel_b\tw1\tw2\tb\n",
      "\t 0\t 0\t 0\t-1\t 0\t 0\t 0\t 0\t 2\t 1\t-1\n",
      "\t 1\t 0\t 1\t 1\t 1\t 0\t 0\t 0\t 2\t 1\t-1\n",
      "\t 0\t 1\t 1\t 0\t 1\t 0\t 0\t 0\t 2\t 1\t-1\n",
      "\t 1\t 1\t 1\t 2\t 1\t 0\t 0\t 0\t 2\t 1\t-1\n",
      "Ecoch 3 has reached termination conditions\n"
     ]
    }
   ],
   "source": [
    "print(\"OR gate with unipolar activation\\n\")\n",
    "perceptron([0, 1, 0, 1], [0, 0, 1, 1], [0, 1, 1, 1], 1,0,-2, unipolar_act)"
   ]
  }
 ],
 "metadata": {
  "kernelspec": {
   "display_name": "Python 3",
   "language": "python",
   "name": "python3"
  },
  "language_info": {
   "codemirror_mode": {
    "name": "ipython",
    "version": 3
   },
   "file_extension": ".py",
   "mimetype": "text/x-python",
   "name": "python",
   "nbconvert_exporter": "python",
   "pygments_lexer": "ipython3",
   "version": "3.11.4"
  }
 },
 "nbformat": 4,
 "nbformat_minor": 2
}
